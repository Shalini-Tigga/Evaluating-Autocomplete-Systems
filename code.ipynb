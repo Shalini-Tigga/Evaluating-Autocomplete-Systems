{
  "nbformat": 4,
  "nbformat_minor": 0,
  "metadata": {
    "colab": {
      "provenance": []
    },
    "kernelspec": {
      "name": "python3",
      "display_name": "Python 3"
    },
    "language_info": {
      "name": "python"
    }
  },
  "cells": [
    {
      "cell_type": "markdown",
      "source": [
        "# Import necessary libraries"
      ],
      "metadata": {
        "id": "Fxvg3am_jP10"
      }
    },
    {
      "cell_type": "code",
      "source": [
        "#pip install pandas nltk gensim scikit-learn python-docx"
      ],
      "metadata": {
        "id": "qwtpJAwxiUee"
      },
      "execution_count": null,
      "outputs": []
    },
    {
      "cell_type": "code",
      "execution_count": null,
      "metadata": {
        "id": "WX7DgIutg_Vb"
      },
      "outputs": [],
      "source": [
        "import pandas as pd\n",
        "import re\n",
        "import time\n",
        "import numpy as np\n",
        "from nltk.util import ngrams\n",
        "from gensim.models import Word2Vec\n",
        "from sklearn.metrics import accuracy_score\n",
        "from collections import defaultdict, Counter\n",
        "from sklearn.model_selection import train_test_split\n",
        "import random\n",
        "from docx import Document\n",
        "from nltk.corpus import stopwords\n",
        "from nltk.stem import WordNetLemmatizer"
      ]
    },
    {
      "cell_type": "code",
      "source": [
        "import nltk\n",
        "nltk.download('stopwords')\n",
        "nltk.download('wordnet')\n",
        "lemmatizer = WordNetLemmatizer()\n",
        "stop_words = set(stopwords.words('english'))"
      ],
      "metadata": {
        "colab": {
          "base_uri": "https://localhost:8080/"
        },
        "id": "EnqhpGO8sY19",
        "outputId": "7943aa75-7399-4325-ed97-e934d48019a9"
      },
      "execution_count": null,
      "outputs": [
        {
          "output_type": "stream",
          "name": "stderr",
          "text": [
            "[nltk_data] Downloading package stopwords to /root/nltk_data...\n",
            "[nltk_data]   Package stopwords is already up-to-date!\n",
            "[nltk_data] Downloading package wordnet to /root/nltk_data...\n",
            "[nltk_data]   Package wordnet is already up-to-date!\n"
          ]
        }
      ]
    },
    {
      "cell_type": "markdown",
      "source": [
        "# Dataset"
      ],
      "metadata": {
        "id": "qL9p5WMGjL4i"
      }
    },
    {
      "cell_type": "code",
      "source": [
        "doc_path = \"wikipedia.docx\"\n",
        "doc = Document(doc_path)"
      ],
      "metadata": {
        "id": "vACc4xBRhSIA"
      },
      "execution_count": null,
      "outputs": []
    },
    {
      "cell_type": "markdown",
      "source": [
        "# Preprocessing"
      ],
      "metadata": {
        "id": "tA7f_7aejWyo"
      }
    },
    {
      "cell_type": "code",
      "source": [
        "#Extract text from paragraphs\n",
        "text_data = [paragraph.text for paragraph in doc.paragraphs]\n",
        "#Convert to lowercase\n",
        "text_data = [text.lower() for text in text_data]\n",
        "#Remove special characters using regex\n",
        "text_data = [re.sub(r\"\\[.*?\\]\", \"\", text) for text in text_data]\n",
        "#Remove non-english alphabets\n",
        "english_alphabet = set(string.ascii_lowercase)\n",
        "text_data = [' '.join([word for word in text.split() if all(char in english_alphabet for char in word)]) for text in text_data]\n",
        "#Removing leading/trailing whitespaces and empty sentences\n",
        "text_data = [text for text in text_data if text]\n",
        "#remove stop words\n",
        "text = ' '.join([word for word in text.split() if word not in stop_words])\n",
        "text = text.strip()\n",
        "#lemmatization\n",
        "processed_text_data = []\n",
        "for text in text_data:\n",
        "    words = text.split()\n",
        "    lemmatized_words = [lemmatizer.lemmatize(word) for word in words if word not in stop_words]\n",
        "    processed_text = ' '.join(lemmatized_words)\n",
        "    processed_text = processed_text.strip()\n",
        "    processed_text_data.append(processed_text)\n",
        "#Create dataframe\n",
        "df = pd.DataFrame({\"Text\": processed_text_data})\n",
        "output_path = \"output.csv\"\n",
        "#Remove index\n",
        "df.to_csv(output_path, index=False)\n",
        "df = pd.read_csv(\"output.csv\")"
      ],
      "metadata": {
        "id": "Wgtr2dunijKI"
      },
      "execution_count": null,
      "outputs": []
    },
    {
      "cell_type": "code",
      "source": [
        "df"
      ],
      "metadata": {
        "colab": {
          "base_uri": "https://localhost:8080/",
          "height": 423
        },
        "id": "qUOMALm5ksT3",
        "outputId": "3d6432f1-534a-4693-a1d2-c6570cbb7b94"
      },
      "execution_count": null,
      "outputs": [
        {
          "output_type": "execute_result",
          "data": {
            "text/plain": [
              "                                                   Text\n",
              "0                                                robert\n",
              "1     robert english film television theatre actor g...\n",
              "2     starred alongside play written mark appeared e...\n",
              "3                                                career\n",
              "4     guest starring role television series bill por...\n",
              "...                                                 ...\n",
              "1220                                     top sport film\n",
              "1221                                             legacy\n",
              "1222  decade since release cemented reputation class...\n",
              "1223  paul newman reprised role fast eddie film colo...\n",
              "1224  credited sparking resurgence popularity pool u...\n",
              "\n",
              "[1225 rows x 1 columns]"
            ],
            "text/html": [
              "\n",
              "  <div id=\"df-0a1c34d1-ac1c-40e7-a23b-5242480bc442\" class=\"colab-df-container\">\n",
              "    <div>\n",
              "<style scoped>\n",
              "    .dataframe tbody tr th:only-of-type {\n",
              "        vertical-align: middle;\n",
              "    }\n",
              "\n",
              "    .dataframe tbody tr th {\n",
              "        vertical-align: top;\n",
              "    }\n",
              "\n",
              "    .dataframe thead th {\n",
              "        text-align: right;\n",
              "    }\n",
              "</style>\n",
              "<table border=\"1\" class=\"dataframe\">\n",
              "  <thead>\n",
              "    <tr style=\"text-align: right;\">\n",
              "      <th></th>\n",
              "      <th>Text</th>\n",
              "    </tr>\n",
              "  </thead>\n",
              "  <tbody>\n",
              "    <tr>\n",
              "      <th>0</th>\n",
              "      <td>robert</td>\n",
              "    </tr>\n",
              "    <tr>\n",
              "      <th>1</th>\n",
              "      <td>robert english film television theatre actor g...</td>\n",
              "    </tr>\n",
              "    <tr>\n",
              "      <th>2</th>\n",
              "      <td>starred alongside play written mark appeared e...</td>\n",
              "    </tr>\n",
              "    <tr>\n",
              "      <th>3</th>\n",
              "      <td>career</td>\n",
              "    </tr>\n",
              "    <tr>\n",
              "      <th>4</th>\n",
              "      <td>guest starring role television series bill por...</td>\n",
              "    </tr>\n",
              "    <tr>\n",
              "      <th>...</th>\n",
              "      <td>...</td>\n",
              "    </tr>\n",
              "    <tr>\n",
              "      <th>1220</th>\n",
              "      <td>top sport film</td>\n",
              "    </tr>\n",
              "    <tr>\n",
              "      <th>1221</th>\n",
              "      <td>legacy</td>\n",
              "    </tr>\n",
              "    <tr>\n",
              "      <th>1222</th>\n",
              "      <td>decade since release cemented reputation class...</td>\n",
              "    </tr>\n",
              "    <tr>\n",
              "      <th>1223</th>\n",
              "      <td>paul newman reprised role fast eddie film colo...</td>\n",
              "    </tr>\n",
              "    <tr>\n",
              "      <th>1224</th>\n",
              "      <td>credited sparking resurgence popularity pool u...</td>\n",
              "    </tr>\n",
              "  </tbody>\n",
              "</table>\n",
              "<p>1225 rows × 1 columns</p>\n",
              "</div>\n",
              "    <div class=\"colab-df-buttons\">\n",
              "\n",
              "  <div class=\"colab-df-container\">\n",
              "    <button class=\"colab-df-convert\" onclick=\"convertToInteractive('df-0a1c34d1-ac1c-40e7-a23b-5242480bc442')\"\n",
              "            title=\"Convert this dataframe to an interactive table.\"\n",
              "            style=\"display:none;\">\n",
              "\n",
              "  <svg xmlns=\"http://www.w3.org/2000/svg\" height=\"24px\" viewBox=\"0 -960 960 960\">\n",
              "    <path d=\"M120-120v-720h720v720H120Zm60-500h600v-160H180v160Zm220 220h160v-160H400v160Zm0 220h160v-160H400v160ZM180-400h160v-160H180v160Zm440 0h160v-160H620v160ZM180-180h160v-160H180v160Zm440 0h160v-160H620v160Z\"/>\n",
              "  </svg>\n",
              "    </button>\n",
              "\n",
              "  <style>\n",
              "    .colab-df-container {\n",
              "      display:flex;\n",
              "      gap: 12px;\n",
              "    }\n",
              "\n",
              "    .colab-df-convert {\n",
              "      background-color: #E8F0FE;\n",
              "      border: none;\n",
              "      border-radius: 50%;\n",
              "      cursor: pointer;\n",
              "      display: none;\n",
              "      fill: #1967D2;\n",
              "      height: 32px;\n",
              "      padding: 0 0 0 0;\n",
              "      width: 32px;\n",
              "    }\n",
              "\n",
              "    .colab-df-convert:hover {\n",
              "      background-color: #E2EBFA;\n",
              "      box-shadow: 0px 1px 2px rgba(60, 64, 67, 0.3), 0px 1px 3px 1px rgba(60, 64, 67, 0.15);\n",
              "      fill: #174EA6;\n",
              "    }\n",
              "\n",
              "    .colab-df-buttons div {\n",
              "      margin-bottom: 4px;\n",
              "    }\n",
              "\n",
              "    [theme=dark] .colab-df-convert {\n",
              "      background-color: #3B4455;\n",
              "      fill: #D2E3FC;\n",
              "    }\n",
              "\n",
              "    [theme=dark] .colab-df-convert:hover {\n",
              "      background-color: #434B5C;\n",
              "      box-shadow: 0px 1px 3px 1px rgba(0, 0, 0, 0.15);\n",
              "      filter: drop-shadow(0px 1px 2px rgba(0, 0, 0, 0.3));\n",
              "      fill: #FFFFFF;\n",
              "    }\n",
              "  </style>\n",
              "\n",
              "    <script>\n",
              "      const buttonEl =\n",
              "        document.querySelector('#df-0a1c34d1-ac1c-40e7-a23b-5242480bc442 button.colab-df-convert');\n",
              "      buttonEl.style.display =\n",
              "        google.colab.kernel.accessAllowed ? 'block' : 'none';\n",
              "\n",
              "      async function convertToInteractive(key) {\n",
              "        const element = document.querySelector('#df-0a1c34d1-ac1c-40e7-a23b-5242480bc442');\n",
              "        const dataTable =\n",
              "          await google.colab.kernel.invokeFunction('convertToInteractive',\n",
              "                                                    [key], {});\n",
              "        if (!dataTable) return;\n",
              "\n",
              "        const docLinkHtml = 'Like what you see? Visit the ' +\n",
              "          '<a target=\"_blank\" href=https://colab.research.google.com/notebooks/data_table.ipynb>data table notebook</a>'\n",
              "          + ' to learn more about interactive tables.';\n",
              "        element.innerHTML = '';\n",
              "        dataTable['output_type'] = 'display_data';\n",
              "        await google.colab.output.renderOutput(dataTable, element);\n",
              "        const docLink = document.createElement('div');\n",
              "        docLink.innerHTML = docLinkHtml;\n",
              "        element.appendChild(docLink);\n",
              "      }\n",
              "    </script>\n",
              "  </div>\n",
              "\n",
              "\n",
              "<div id=\"df-c35ad802-c675-4428-9e21-e749f16461af\">\n",
              "  <button class=\"colab-df-quickchart\" onclick=\"quickchart('df-c35ad802-c675-4428-9e21-e749f16461af')\"\n",
              "            title=\"Suggest charts\"\n",
              "            style=\"display:none;\">\n",
              "\n",
              "<svg xmlns=\"http://www.w3.org/2000/svg\" height=\"24px\"viewBox=\"0 0 24 24\"\n",
              "     width=\"24px\">\n",
              "    <g>\n",
              "        <path d=\"M19 3H5c-1.1 0-2 .9-2 2v14c0 1.1.9 2 2 2h14c1.1 0 2-.9 2-2V5c0-1.1-.9-2-2-2zM9 17H7v-7h2v7zm4 0h-2V7h2v10zm4 0h-2v-4h2v4z\"/>\n",
              "    </g>\n",
              "</svg>\n",
              "  </button>\n",
              "\n",
              "<style>\n",
              "  .colab-df-quickchart {\n",
              "      --bg-color: #E8F0FE;\n",
              "      --fill-color: #1967D2;\n",
              "      --hover-bg-color: #E2EBFA;\n",
              "      --hover-fill-color: #174EA6;\n",
              "      --disabled-fill-color: #AAA;\n",
              "      --disabled-bg-color: #DDD;\n",
              "  }\n",
              "\n",
              "  [theme=dark] .colab-df-quickchart {\n",
              "      --bg-color: #3B4455;\n",
              "      --fill-color: #D2E3FC;\n",
              "      --hover-bg-color: #434B5C;\n",
              "      --hover-fill-color: #FFFFFF;\n",
              "      --disabled-bg-color: #3B4455;\n",
              "      --disabled-fill-color: #666;\n",
              "  }\n",
              "\n",
              "  .colab-df-quickchart {\n",
              "    background-color: var(--bg-color);\n",
              "    border: none;\n",
              "    border-radius: 50%;\n",
              "    cursor: pointer;\n",
              "    display: none;\n",
              "    fill: var(--fill-color);\n",
              "    height: 32px;\n",
              "    padding: 0;\n",
              "    width: 32px;\n",
              "  }\n",
              "\n",
              "  .colab-df-quickchart:hover {\n",
              "    background-color: var(--hover-bg-color);\n",
              "    box-shadow: 0 1px 2px rgba(60, 64, 67, 0.3), 0 1px 3px 1px rgba(60, 64, 67, 0.15);\n",
              "    fill: var(--button-hover-fill-color);\n",
              "  }\n",
              "\n",
              "  .colab-df-quickchart-complete:disabled,\n",
              "  .colab-df-quickchart-complete:disabled:hover {\n",
              "    background-color: var(--disabled-bg-color);\n",
              "    fill: var(--disabled-fill-color);\n",
              "    box-shadow: none;\n",
              "  }\n",
              "\n",
              "  .colab-df-spinner {\n",
              "    border: 2px solid var(--fill-color);\n",
              "    border-color: transparent;\n",
              "    border-bottom-color: var(--fill-color);\n",
              "    animation:\n",
              "      spin 1s steps(1) infinite;\n",
              "  }\n",
              "\n",
              "  @keyframes spin {\n",
              "    0% {\n",
              "      border-color: transparent;\n",
              "      border-bottom-color: var(--fill-color);\n",
              "      border-left-color: var(--fill-color);\n",
              "    }\n",
              "    20% {\n",
              "      border-color: transparent;\n",
              "      border-left-color: var(--fill-color);\n",
              "      border-top-color: var(--fill-color);\n",
              "    }\n",
              "    30% {\n",
              "      border-color: transparent;\n",
              "      border-left-color: var(--fill-color);\n",
              "      border-top-color: var(--fill-color);\n",
              "      border-right-color: var(--fill-color);\n",
              "    }\n",
              "    40% {\n",
              "      border-color: transparent;\n",
              "      border-right-color: var(--fill-color);\n",
              "      border-top-color: var(--fill-color);\n",
              "    }\n",
              "    60% {\n",
              "      border-color: transparent;\n",
              "      border-right-color: var(--fill-color);\n",
              "    }\n",
              "    80% {\n",
              "      border-color: transparent;\n",
              "      border-right-color: var(--fill-color);\n",
              "      border-bottom-color: var(--fill-color);\n",
              "    }\n",
              "    90% {\n",
              "      border-color: transparent;\n",
              "      border-bottom-color: var(--fill-color);\n",
              "    }\n",
              "  }\n",
              "</style>\n",
              "\n",
              "  <script>\n",
              "    async function quickchart(key) {\n",
              "      const quickchartButtonEl =\n",
              "        document.querySelector('#' + key + ' button');\n",
              "      quickchartButtonEl.disabled = true;  // To prevent multiple clicks.\n",
              "      quickchartButtonEl.classList.add('colab-df-spinner');\n",
              "      try {\n",
              "        const charts = await google.colab.kernel.invokeFunction(\n",
              "            'suggestCharts', [key], {});\n",
              "      } catch (error) {\n",
              "        console.error('Error during call to suggestCharts:', error);\n",
              "      }\n",
              "      quickchartButtonEl.classList.remove('colab-df-spinner');\n",
              "      quickchartButtonEl.classList.add('colab-df-quickchart-complete');\n",
              "    }\n",
              "    (() => {\n",
              "      let quickchartButtonEl =\n",
              "        document.querySelector('#df-c35ad802-c675-4428-9e21-e749f16461af button');\n",
              "      quickchartButtonEl.style.display =\n",
              "        google.colab.kernel.accessAllowed ? 'block' : 'none';\n",
              "    })();\n",
              "  </script>\n",
              "</div>\n",
              "\n",
              "  <div id=\"id_377f9126-ce40-42c7-8044-899551988f46\">\n",
              "    <style>\n",
              "      .colab-df-generate {\n",
              "        background-color: #E8F0FE;\n",
              "        border: none;\n",
              "        border-radius: 50%;\n",
              "        cursor: pointer;\n",
              "        display: none;\n",
              "        fill: #1967D2;\n",
              "        height: 32px;\n",
              "        padding: 0 0 0 0;\n",
              "        width: 32px;\n",
              "      }\n",
              "\n",
              "      .colab-df-generate:hover {\n",
              "        background-color: #E2EBFA;\n",
              "        box-shadow: 0px 1px 2px rgba(60, 64, 67, 0.3), 0px 1px 3px 1px rgba(60, 64, 67, 0.15);\n",
              "        fill: #174EA6;\n",
              "      }\n",
              "\n",
              "      [theme=dark] .colab-df-generate {\n",
              "        background-color: #3B4455;\n",
              "        fill: #D2E3FC;\n",
              "      }\n",
              "\n",
              "      [theme=dark] .colab-df-generate:hover {\n",
              "        background-color: #434B5C;\n",
              "        box-shadow: 0px 1px 3px 1px rgba(0, 0, 0, 0.15);\n",
              "        filter: drop-shadow(0px 1px 2px rgba(0, 0, 0, 0.3));\n",
              "        fill: #FFFFFF;\n",
              "      }\n",
              "    </style>\n",
              "    <button class=\"colab-df-generate\" onclick=\"generateWithVariable('df')\"\n",
              "            title=\"Generate code using this dataframe.\"\n",
              "            style=\"display:none;\">\n",
              "\n",
              "  <svg xmlns=\"http://www.w3.org/2000/svg\" height=\"24px\"viewBox=\"0 0 24 24\"\n",
              "       width=\"24px\">\n",
              "    <path d=\"M7,19H8.4L18.45,9,17,7.55,7,17.6ZM5,21V16.75L18.45,3.32a2,2,0,0,1,2.83,0l1.4,1.43a1.91,1.91,0,0,1,.58,1.4,1.91,1.91,0,0,1-.58,1.4L9.25,21ZM18.45,9,17,7.55Zm-12,3A5.31,5.31,0,0,0,4.9,8.1,5.31,5.31,0,0,0,1,6.5,5.31,5.31,0,0,0,4.9,4.9,5.31,5.31,0,0,0,6.5,1,5.31,5.31,0,0,0,8.1,4.9,5.31,5.31,0,0,0,12,6.5,5.46,5.46,0,0,0,6.5,12Z\"/>\n",
              "  </svg>\n",
              "    </button>\n",
              "    <script>\n",
              "      (() => {\n",
              "      const buttonEl =\n",
              "        document.querySelector('#id_377f9126-ce40-42c7-8044-899551988f46 button.colab-df-generate');\n",
              "      buttonEl.style.display =\n",
              "        google.colab.kernel.accessAllowed ? 'block' : 'none';\n",
              "\n",
              "      buttonEl.onclick = () => {\n",
              "        google.colab.notebook.generateWithVariable('df');\n",
              "      }\n",
              "      })();\n",
              "    </script>\n",
              "  </div>\n",
              "\n",
              "    </div>\n",
              "  </div>\n"
            ],
            "application/vnd.google.colaboratory.intrinsic+json": {
              "type": "dataframe",
              "variable_name": "df",
              "summary": "{\n  \"name\": \"df\",\n  \"rows\": 1225,\n  \"fields\": [\n    {\n      \"column\": \"Text\",\n      \"properties\": {\n        \"dtype\": \"string\",\n        \"num_unique_values\": 1161,\n        \"samples\": [\n          \"heart ezra greer american silent drama film produced thanhouser company directed emile film focus ezra greer successful middle aged man search college age daughter mary mary abandoned jack later bearing child ezra becomes broke find employment jack jack engagement cabaret girl mary becomes upset leaf child jack home contrary jack wish ezra keep child jack ultimately reveals child ezra convinces jack make thing right ezra convinces cabaret girl leave jack carriage accident baby injured ezra jack rush hospital find mary nurse cry child film end marriage jack mary film released october film final release thanhouser deemed average film reviewer criticism film far coincidence drive plot film presumed lost\",\n          \"malaysian census population town indigenous people accounted largest proportion town population followed chinese non indian among indigenous group malay indigenous tribe according government source district moved basin mid early century permission brooke government indigenous tribe form minority chinese mainly composed dialect group chinese living town since era empire later chinese moved dominating timber plantation business also large number foreigner working come britain australia netherlands germany south africa new zealand japan china united state indonesia\",\n          \"relation british army resident steadily decayed since first appearance troop august september clash nationalist unionist crowd led death protestant man william king british army erected peace ring nationalist population area previously controlled road city centre closed night people prevented walking certain street although moderate nationalist accepted necessary anger among young people youth troop became frequent riot following official easter parade march marked first time army used squad rushed wielding make arrest squad soon became common feature army arrest operation also belief arresting people random sometimes day alleged offence based identification people seen considerable distance condemned saw riot hampering attempt resolve situation labour radical official still working together tried turn youth away rioting create socialist organization one organization named young association riot viewed inevitable consequence british occupation philosophy attractive joined provisional ira death two leading premature explosion june resulted young militant becoming prominent organization nevertheless july provisional ira remained numerically small\"\n        ],\n        \"semantic_type\": \"\",\n        \"description\": \"\"\n      }\n    }\n  ]\n}"
            }
          },
          "metadata": {},
          "execution_count": 269
        }
      ]
    },
    {
      "cell_type": "markdown",
      "source": [
        "# Train-test split"
      ],
      "metadata": {
        "id": "iTRO2eWnlo-N"
      }
    },
    {
      "cell_type": "code",
      "source": [
        "train_data, test_data = train_test_split(df['Text'], test_size=0.2, random_state=42)\n",
        "test_data = [text for text in test_data if text is not None]"
      ],
      "metadata": {
        "id": "a4cjN43hlh1d"
      },
      "execution_count": null,
      "outputs": []
    },
    {
      "cell_type": "markdown",
      "source": [
        "# Evaluation"
      ],
      "metadata": {
        "id": "PatxNDAUmBBt"
      }
    },
    {
      "cell_type": "code",
      "source": [
        "results = {\n",
        "    'Model': [],\n",
        "    'Accuracy': [],\n",
        "    'Avg Keystrokes Saved': [],\n",
        "    'Avg Completion Time': [],\n",
        "    'Context-Capture Score': []\n",
        "}\n",
        "def append_results(model_name, accuracy, keystrokes_saved, completion_time, context_score):\n",
        "    results['Model'].append(model_name)\n",
        "    results['Accuracy'].append(accuracy)\n",
        "    results['Avg Keystrokes Saved'].append(keystrokes_saved)\n",
        "    results['Avg Completion Time'].append(completion_time)\n",
        "    results['Context-Capture Score'].append(context_score)"
      ],
      "metadata": {
        "id": "bQA6Z3-4ltW3"
      },
      "execution_count": null,
      "outputs": []
    },
    {
      "cell_type": "markdown",
      "source": [
        "\n",
        "\n",
        "1.   N-gram model\n",
        "\n"
      ],
      "metadata": {
        "id": "PgrNIb7vmFiR"
      }
    },
    {
      "cell_type": "code",
      "source": [
        "def build_ngram_model(corpus, n=3):\n",
        "    model = defaultdict(Counter)\n",
        "    for sentence in corpus:\n",
        "        tokens = sentence.split()\n",
        "        for i in range(len(tokens) - n + 1):\n",
        "            ngram_tuple = tuple(tokens[i:i + n - 1])\n",
        "            next_word = tokens[i + n - 1]\n",
        "            model[ngram_tuple][next_word] += 1\n",
        "    return model"
      ],
      "metadata": {
        "id": "9kpY2hZtmDdC"
      },
      "execution_count": null,
      "outputs": []
    },
    {
      "cell_type": "code",
      "source": [
        "def predict_ngram(model, prefix):\n",
        "    ngram_tuple = tuple(prefix.split()[-2:])\n",
        "    if ngram_tuple in model:\n",
        "        return model[ngram_tuple].most_common(1)[0][0]\n",
        "    return None"
      ],
      "metadata": {
        "id": "AXsehg8GmNk6"
      },
      "execution_count": null,
      "outputs": []
    },
    {
      "cell_type": "code",
      "source": [
        "train_data = df['Text'].dropna().astype(str).tolist()\n",
        "test_data = df['Text'].dropna().astype(str).tolist()\n",
        "ngram_model = build_ngram_model(train_data)\n",
        "start_time = time.time()\n",
        "ngram_predictions = []\n",
        "valid_actuals = []\n",
        "\n",
        "for text in test_data:\n",
        "    words = text.split()\n",
        "    if len(words) > 2:  # Ensure there's at least one word to predict\n",
        "        prefix = \" \".join(words[:-1])\n",
        "        prediction = predict_ngram(ngram_model, prefix)\n",
        "        if prediction:  # Only append if prediction is not None\n",
        "            ngram_predictions.append(prediction)\n",
        "            valid_actuals.append(words[-1])  # Only append the actual last word if valid\n",
        "\n",
        "completion_time = time.time() - start_time\n",
        "if valid_actuals and ngram_predictions:  # Check if there are any valid predictions and actuals\n",
        "    accuracy = accuracy_score(valid_actuals, ngram_predictions)\n",
        "    keystrokes_saved = sum(len(pred) for pred in ngram_predictions) / len(ngram_predictions)\n",
        "    append_results('N-gram', accuracy, keystrokes_saved, completion_time, 1)"
      ],
      "metadata": {
        "id": "zVzbg1bNmXlR"
      },
      "execution_count": null,
      "outputs": []
    },
    {
      "cell_type": "markdown",
      "source": [
        "2. Word2Vec"
      ],
      "metadata": {
        "id": "Re2U0PmoopXA"
      }
    },
    {
      "cell_type": "code",
      "source": [
        "word2vec_model = Word2Vec([text.split() for text in train_data], vector_size=250, window=5, sg =1, epochs = 50, min_count=1, workers=4)"
      ],
      "metadata": {
        "id": "Id25GYRPnz-E"
      },
      "execution_count": null,
      "outputs": []
    },
    {
      "cell_type": "code",
      "source": [
        "def predict_word2vec(model, prefix):\n",
        "    words = prefix.split()\n",
        "    if words and words[-1] in model.wv.key_to_index:\n",
        "        similar_words = model.wv.most_similar(words[-1])\n",
        "        return similar_words[0][0]\n",
        "    return None"
      ],
      "metadata": {
        "id": "gANF-XCQn6qt"
      },
      "execution_count": null,
      "outputs": []
    },
    {
      "cell_type": "markdown",
      "source": [
        "# Evaluation"
      ],
      "metadata": {
        "id": "Smif-fHUlcNG"
      }
    },
    {
      "cell_type": "code",
      "source": [
        "\n",
        "start_time = time.time()\n",
        "word2vec_predictions = []\n",
        "valid_actuals_w2v = []\n",
        "\n",
        "for text in test_data:\n",
        "    words = text.split()\n",
        "    if len(words) > 1:  # Ensure there's at least one word to predict\n",
        "        prefix = \" \".join(words[:-1])\n",
        "        prediction = predict_word2vec(word2vec_model, prefix)\n",
        "        if prediction:  # Only append if prediction is not None\n",
        "            word2vec_predictions.append(prediction)\n",
        "            valid_actuals_w2v.append(words[-1])  # Only append the actual last word if valid\n",
        "\n",
        "completion_time = time.time() - start_time\n",
        "if valid_actuals_w2v and word2vec_predictions:  # Check if there are any valid predictions and actuals\n",
        "    accuracy = accuracy_score(valid_actuals_w2v, word2vec_predictions)\n",
        "    keystrokes_saved = sum(len(pred) for pred in word2vec_predictions) / len(word2vec_predictions)\n",
        "    append_results('Word2Vec', accuracy, keystrokes_saved, completion_time, 2)"
      ],
      "metadata": {
        "id": "cnVtZ2WAo5y_"
      },
      "execution_count": null,
      "outputs": []
    },
    {
      "cell_type": "code",
      "source": [
        "results_df = pd.DataFrame(results)\n",
        "print(results_df)"
      ],
      "metadata": {
        "colab": {
          "base_uri": "https://localhost:8080/"
        },
        "id": "NEoH8VFKo-bG",
        "outputId": "99d13cbc-f315-4894-89fb-c76bd577f4de"
      },
      "execution_count": null,
      "outputs": [
        {
          "output_type": "stream",
          "name": "stdout",
          "text": [
            "      Model  Accuracy  Avg Keystrokes Saved  Avg Completion Time  \\\n",
            "0    N-gram  0.924569              6.201509             0.016903   \n",
            "1  Word2Vec  0.084440              7.241935             0.658448   \n",
            "2  Word2Vec  0.096774              7.197343             2.220603   \n",
            "3  Word2Vec  0.052182              7.051233             0.774965   \n",
            "4  Word2Vec  0.090133              7.257116             0.794732   \n",
            "\n",
            "   Context-Capture Score  \n",
            "0                      1  \n",
            "1                      2  \n",
            "2                      2  \n",
            "3                      2  \n",
            "4                      2  \n"
          ]
        }
      ]
    },
    {
      "cell_type": "code",
      "source": [],
      "metadata": {
        "id": "IHdPu7FIpHmp"
      },
      "execution_count": null,
      "outputs": []
    }
  ]
}